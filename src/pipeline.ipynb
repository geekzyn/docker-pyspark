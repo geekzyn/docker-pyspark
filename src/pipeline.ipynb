{
 "cells": [
  {
   "cell_type": "code",
   "execution_count": 2,
   "metadata": {},
   "outputs": [
    {
     "name": "stdout",
     "output_type": "stream",
     "text": [
      "+---+-----+-------------------+\n",
      "| id| name|         start_date|\n",
      "+---+-----+-------------------+\n",
      "|  1| John|2000-01-01 12:00:00|\n",
      "|  2|Helga|2000-01-02 12:00:00|\n",
      "|  3|James|2000-01-03 12:00:00|\n",
      "+---+-----+-------------------+\n",
      "\n"
     ]
    }
   ],
   "source": [
    "from pyspark.sql import SparkSession\n",
    "from datetime import datetime\n",
    "from pyspark.sql import Row\n",
    "\n",
    "spark = SparkSession.builder.getOrCreate()\n",
    "\n",
    "df = spark.createDataFrame([\n",
    "    Row(id=1, name='John', start_date=datetime(2000, 1, 1, 12, 0)),\n",
    "    Row(id=2, name='Helga', start_date=datetime(2000, 1, 2, 12, 0)),\n",
    "    Row(id=3, name='James', start_date=datetime(2000, 1, 3, 12, 0))\n",
    "])\n",
    "\n",
    "df.show()"
   ]
  },
  {
   "cell_type": "code",
   "execution_count": null,
   "metadata": {},
   "outputs": [],
   "source": []
  }
 ],
 "metadata": {
  "kernelspec": {
   "display_name": "pyspark",
   "language": "python",
   "name": "pyspark"
  },
  "language_info": {
   "codemirror_mode": {
    "name": "ipython",
    "version": 3
   },
   "file_extension": ".py",
   "mimetype": "text/x-python",
   "name": "python",
   "nbconvert_exporter": "python",
   "pygments_lexer": "ipython3",
   "version": "3.12.3"
  }
 },
 "nbformat": 4,
 "nbformat_minor": 4
}
